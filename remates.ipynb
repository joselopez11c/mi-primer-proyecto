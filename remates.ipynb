{
  "nbformat": 4,
  "nbformat_minor": 0,
  "metadata": {
    "colab": {
      "provenance": [],
      "authorship_tag": "ABX9TyMRgLYbXn1TmicQSwDnnpAq",
      "include_colab_link": true
    },
    "kernelspec": {
      "name": "python3",
      "display_name": "Python 3"
    },
    "language_info": {
      "name": "python"
    }
  },
  "cells": [
    {
      "cell_type": "markdown",
      "metadata": {
        "id": "view-in-github",
        "colab_type": "text"
      },
      "source": [
        "<a href=\"https://colab.research.google.com/github/joselopez11c/mi-primer-proyecto/blob/main/remates.ipynb\" target=\"_parent\"><img src=\"https://colab.research.google.com/assets/colab-badge.svg\" alt=\"Open In Colab\"/></a>"
      ]
    },
    {
      "cell_type": "code",
      "execution_count": 70,
      "metadata": {
        "id": "AbqjJG2omaDX"
      },
      "outputs": [],
      "source": [
        "#Cargamos la librería\n",
        "import requests\n",
        "import re\n",
        "import pandas as pd\n",
        "from bs4 import BeautifulSoup\n",
        "from google.colab import drive\n",
        "import os"
      ]
    },
    {
      "cell_type": "code",
      "source": [
        "#Descargamos el contenido del url\n",
        "# URL de la página a la que se hace el request\n",
        "url = 'https://remaju.pj.gob.pe/remaju/pages/publico/remateExterno.xhtml'\n",
        "\n",
        "# Headers utilizados en el request HTTP, como en el comando curl\n",
        "headers = {\n",
        "    'Accept': 'application/xml, text/xml, */*; q=0.01',\n",
        "    'Accept-Language': 'en-US,en;q=0.9,es;q=0.8',\n",
        "    'Connection': 'keep-alive',\n",
        "    'Content-Type': 'application/x-www-form-urlencoded; charset=UTF-8',\n",
        "    'DNT': '1',\n",
        "    'Faces-Request': 'partial/ajax',\n",
        "    'Origin': 'https://remaju.pj.gob.pe',\n",
        "    'Referer': 'https://remaju.pj.gob.pe/remaju/pages/publico/remateExterno.xhtml',\n",
        "    'Sec-Fetch-Dest': 'empty',\n",
        "    'Sec-Fetch-Mode': 'cors',\n",
        "    'Sec-Fetch-Site': 'same-origin',\n",
        "    'User-Agent': 'Mozilla/5.0 (Macintosh; Intel Mac OS X 10_15_7) AppleWebKit/537.36 (KHTML, like Gecko) Chrome/124.0.0.0 Safari/537.36',\n",
        "    'X-Requested-With': 'XMLHttpRequest',\n",
        "}\n",
        "\n",
        "\n",
        "def fetch_page(first_row):\n",
        "  dataPagination = {\n",
        "      'javax.faces.partial.ajax': 'true',\n",
        "      'javax.faces.source': 'formBuscarRemateExterno:listaRemate',\n",
        "      'javax.faces.partial.execute': 'formBuscarRemateExterno:listaRemate',\n",
        "      'javax.faces.partial.render': 'formBuscarRemateExterno:listaRemate',\n",
        "      'javax.faces.behavior.event': 'page',\n",
        "      'javax.faces.partial.event': 'page',\n",
        "      'formBuscarRemateExterno:listaRemate_pagination': 'true',\n",
        "      'formBuscarRemateExterno:listaRemate_skipChildren': 'true',\n",
        "      'formBuscarRemateExterno:listaRemate_first': str(first_row),\n",
        "      'formBuscarRemateExterno:listaRemate_rows': '12',\n",
        "      'formBuscarRemateExterno': 'formBuscarRemateExterno',\n",
        "      'formBuscarRemateExterno:j_idt70:filtroRemate': '',\n",
        "      'formBuscarRemateExterno:j_idt70:filtroNroExpediente': '',\n",
        "      'formBuscarRemateExterno:j_idt70:precioBaseDesde_input': '',\n",
        "      'formBuscarRemateExterno:j_idt70:precioBaseDesde_hinput': '',\n",
        "      'formBuscarRemateExterno:j_idt70:precioBaseHasta_input': '',\n",
        "      'formBuscarRemateExterno:j_idt70:precioBaseHasta_hinput': '',\n",
        "      'formBuscarRemateExterno:j_idt70:filtroTipoInmueble_focus': '',\n",
        "      'formBuscarRemateExterno:j_idt70:filtroTipoInmueble_input': '',\n",
        "      'formBuscarRemateExterno:j_idt70:filtroDepartamento_focus': '',\n",
        "      'formBuscarRemateExterno:j_idt70:filtroDepartamento_input': '',\n",
        "      'formBuscarRemateExterno:j_idt70:filtroProvincia_focus': '',\n",
        "      'formBuscarRemateExterno:j_idt70:filtroProvincia_input': '',\n",
        "      'formBuscarRemateExterno:j_idt70:filtroDistrito_focus': '',\n",
        "      'formBuscarRemateExterno:j_idt70:filtroDistrito_input': '',\n",
        "      'formBuscarRemateExterno:j_idt70:filtroFases_focus': '',\n",
        "      'formBuscarRemateExterno:j_idt70:filtroFases_input': '1',\n",
        "      'formBuscarRemateExterno:j_idt70_active': '0'\n",
        "  }\n",
        "  response = requests.post(url, headers=headers, data=dataPagination)\n",
        "  return response\n",
        "\n",
        "def downloadFile(idFile, viewState, file_path):\n",
        "  dataFile = {\n",
        "      'formBuscarRemateExterno': 'formBuscarRemateExterno',\n",
        "      'formBuscarRemateExterno:j_idt70:filtroRemate': '',\n",
        "      'formBuscarRemateExterno:j_idt70:filtroNroExpediente': '',\n",
        "      'formBuscarRemateExterno:j_idt70:precioBaseDesde_input': '',\n",
        "      'formBuscarRemateExterno:j_idt70:precioBaseDesde_hinput': '',\n",
        "      'formBuscarRemateExterno:j_idt70:precioBaseHasta_input': '',\n",
        "      'formBuscarRemateExterno:j_idt70:precioBaseHasta_hinput': '',\n",
        "      'formBuscarRemateExterno:j_idt70:filtroTipoInmueble_focus': '',\n",
        "      'formBuscarRemateExterno:j_idt70:filtroTipoInmueble_input': '',\n",
        "      'formBuscarRemateExterno:j_idt70:filtroDepartamento_focus': '',\n",
        "      'formBuscarRemateExterno:j_idt70:filtroDepartamento_input': '',\n",
        "      'formBuscarRemateExterno:j_idt70:filtroProvincia_focus': '',\n",
        "      'formBuscarRemateExterno:j_idt70:filtroProvincia_input': '',\n",
        "      'formBuscarRemateExterno:j_idt70:filtroDistrito_focus': '',\n",
        "      'formBuscarRemateExterno:j_idt70:filtroDistrito_input': '',\n",
        "      'formBuscarRemateExterno:j_idt70:filtroFases_focus': '',\n",
        "      'formBuscarRemateExterno:j_idt70:filtroFases_input': '1',\n",
        "      'formBuscarRemateExterno:j_idt70_active': '0',\n",
        "      'formBuscarRemateExterno:captcha': '',\n",
        "      str(idFile): '',\n",
        "      'formBuscarRemateExterno:listaRemate_rppDD': '4',\n",
        "      'javax.faces.ViewState': str(viewState)\n",
        "  }\n",
        "  response = requests.post(url, headers=headers, data=dataFile)\n",
        "  if response.status_code == 200:\n",
        "    with open(file_path, 'wb') as file:\n",
        "        file.write(response.content)\n",
        "        print(f\"Archivo guardado en {file_path}\")\n",
        "  else:\n",
        "      print(f\"Error descargando el archivo en {file_path}\")\n",
        "\n"
      ],
      "metadata": {
        "id": "YO3oh__EoCgg"
      },
      "execution_count": 103,
      "outputs": []
    },
    {
      "cell_type": "code",
      "source": [
        "page = fetch_page(2)\n",
        "soup = BeautifulSoup(page.content, 'xml')\n",
        "\n",
        "update_tag = soup.find('update', {'id': 'j_id1:javax.faces.ViewState:0'})\n",
        "view_state_value = update_tag.text\n"
      ],
      "metadata": {
        "id": "K4wG94BgoNek"
      },
      "execution_count": 104,
      "outputs": []
    },
    {
      "cell_type": "code",
      "source": [
        "cdata_content = soup.find('update').text\n",
        "\n",
        "# Ahora parseamos el contenido del CDATA, que es HTML\n",
        "soup_html = BeautifulSoup(cdata_content, 'html.parser')"
      ],
      "metadata": {
        "id": "J-mcx8kCMowG"
      },
      "execution_count": 105,
      "outputs": []
    },
    {
      "cell_type": "code",
      "source": [
        "# Buscar todos los div con la clase 'card azul'\n",
        "cards = soup_html.find_all('div', class_='card azul')\n",
        "\n",
        "data = []\n",
        "for card in cards:\n",
        "    # Obtener número de remate y convocatoria\n",
        "    remate_info = card.find('span', class_='text-bold label-danger h6').get_text(strip=True) if card.find('span', class_='text-bold label-danger h6') else 'No disponible'\n",
        "\n",
        "    # Dividir la información de remate en número y convocatoria\n",
        "    if remate_info != 'No disponible':\n",
        "        parts = remate_info.split(\" - \")\n",
        "        remate_number = parts[0] if len(parts) > 0 else 'No disponible'\n",
        "        convocatoria = parts[1] if len(parts) > 1 else 'No disponible'\n",
        "    else:\n",
        "        remate_number = 'No disponible'\n",
        "        convocatoria = 'No disponible'\n",
        "\n",
        "    # Ubicación, buscando la etiqueta específica y extrayendo el texto siguiente\n",
        "    location_tag = card.find('i', class_='fa fa-map-marker')\n",
        "    location = location_tag.find_next_sibling(text=True).strip() if location_tag else 'No disponible'\n",
        "\n",
        "    # Descripción del inmueble, buscando el contenedor específico\n",
        "    description = card.find('div', class_='texto-info-scroll').get_text(strip=True) if card.find('div', class_='texto-info-scroll') else 'No disponible'\n",
        "\n",
        "    # Buscar todos los scripts dentro del card\n",
        "    scripts = card.find_all('script')\n",
        "    script_id = 'Script ID no encontrado'\n",
        "\n",
        "    for script in scripts:\n",
        "        if 'CommandButton' in script.text:\n",
        "            script_id = script.get('id')\n",
        "            if script_id and script_id.endswith('_s'):\n",
        "                script_id = script_id[:-2]  # Remover los últimos dos caracteres \"_s\"\n",
        "            break\n",
        "\n",
        "    # Guardar los datos extraídos en la lista\n",
        "    data.append({\n",
        "        'Numer': remate_number,\n",
        "        'Convocation': convocatoria,\n",
        "        'Location': location,\n",
        "        'Description': description,\n",
        "        'Script ID': script_id\n",
        "    })\n",
        "\n",
        "\n",
        "# Crear un DataFrame con los datos recolectados\n",
        "df = pd.DataFrame(data)"
      ],
      "metadata": {
        "colab": {
          "base_uri": "https://localhost:8080/"
        },
        "id": "Y01vze3EwHo0",
        "outputId": "7034d045-885f-442b-93f6-8e271bff8ecb"
      },
      "execution_count": 106,
      "outputs": [
        {
          "output_type": "stream",
          "name": "stderr",
          "text": [
            "<ipython-input-106-fe8ab2f4f7e3>:20: DeprecationWarning: The 'text' argument to find()-type methods is deprecated. Use 'string' instead.\n",
            "  location = location_tag.find_next_sibling(text=True).strip() if location_tag else 'No disponible'\n"
          ]
        }
      ]
    },
    {
      "cell_type": "code",
      "source": [
        "drive.mount('/content/drive')\n",
        "# Ruta de la carpeta dentro de Google Drive\n",
        "folder_path = '/content/drive/My Drive/Remates'\n",
        "os.makedirs(folder_path, exist_ok=True)  # Crea la carpeta si no existe\n",
        "\n",
        "for index, row in df.iterrows():\n",
        "  file_name = f\"file_{index}.pdf\"  # Asume que los archivos son PDFs\n",
        "  file_path = os.path.join(folder_path, file_name)\n",
        "  print(row['Script ID'] + \" \" + view_state_value)\n",
        "  #downloadFile(row['Script ID'], view_state_value, file_path)\n"
      ],
      "metadata": {
        "colab": {
          "base_uri": "https://localhost:8080/"
        },
        "id": "lA2CHBOHwHfA",
        "outputId": "5c130168-1b20-48eb-9a1c-b58f41d11b94"
      },
      "execution_count": 108,
      "outputs": [
        {
          "output_type": "stream",
          "name": "stdout",
          "text": [
            "Drive already mounted at /content/drive; to attempt to forcibly remount, call drive.mount(\"/content/drive\", force_remount=True).\n",
            "formBuscarRemateExterno:listaRemate:2:j_idt167 7873197992044644847:1629736220990096295\n",
            "formBuscarRemateExterno:listaRemate:3:j_idt167 7873197992044644847:1629736220990096295\n",
            "formBuscarRemateExterno:listaRemate:4:j_idt167 7873197992044644847:1629736220990096295\n",
            "formBuscarRemateExterno:listaRemate:5:j_idt167 7873197992044644847:1629736220990096295\n",
            "formBuscarRemateExterno:listaRemate:6:j_idt167 7873197992044644847:1629736220990096295\n",
            "formBuscarRemateExterno:listaRemate:7:j_idt167 7873197992044644847:1629736220990096295\n",
            "formBuscarRemateExterno:listaRemate:8:j_idt167 7873197992044644847:1629736220990096295\n",
            "formBuscarRemateExterno:listaRemate:9:j_idt167 7873197992044644847:1629736220990096295\n",
            "formBuscarRemateExterno:listaRemate:10:j_idt167 7873197992044644847:1629736220990096295\n",
            "formBuscarRemateExterno:listaRemate:11:j_idt167 7873197992044644847:1629736220990096295\n",
            "formBuscarRemateExterno:listaRemate:12:j_idt167 7873197992044644847:1629736220990096295\n",
            "formBuscarRemateExterno:listaRemate:13:j_idt167 7873197992044644847:1629736220990096295\n"
          ]
        }
      ]
    }
  ]
}